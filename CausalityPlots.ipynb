{
 "cells": [
  {
   "cell_type": "markdown",
   "id": "fe7e7ed3",
   "metadata": {
    "pycharm": {
     "name": "#%% md\n"
    }
   },
   "source": [
    "# Lorenz"
   ]
  },
  {
   "cell_type": "code",
   "execution_count": 72,
   "id": "70701aac",
   "metadata": {
    "pycharm": {
     "name": "#%%\n"
    }
   },
   "outputs": [
    {
     "name": "stderr",
     "output_type": "stream",
     "text": [
      "WARNING:root:WARNING - convergence to tolerance not achieved!\n",
      "WARNING:root:WARNING - convergence to tolerance not achieved!\n",
      "WARNING:root:WARNING - convergence to tolerance not achieved!\n",
      "WARNING:matplotlib.backends.backend_ps:The PostScript backend does not support transparency; partially transparent artists will be rendered opaque.\n"
     ]
    }
   ],
   "source": [
    "import pickle\n",
    "import numpy as np\n",
    "from scipy.stats import chi2\n",
    "import matplotlib.pyplot as plt\n",
    "import networkx as nx\n",
    "from tvregdiff import TVRegDiff\n",
    "import seaborn as sns\n",
    "\n",
    "\n",
    "def remove_diag(A):\n",
    "    return A[~np.eye(A.shape[0], dtype=bool)].flatten()\n",
    "\n",
    "\n",
    "def mesh_grid(x, y):\n",
    "    xx = np.tile(x, (y.shape[0], 1))\n",
    "    yy = np.tile(y[:, np.newaxis], (1, x.shape[0]))\n",
    "    return xx, yy\n",
    "\n",
    "\n",
    "# %% Load dataset\n",
    "with open('raw/lorenz96_conditional_SVM_wilcoxon_stats.pkl', 'rb') as f:\n",
    "    SVM = pickle.load(f)\n",
    "with open('raw/lorenz96_conditional_LSTM_L2_0.01_wilcoxon_stats.pkl', 'rb') as f:\n",
    "    LSTM_L2 = pickle.load(f)\n",
    "with open('raw/lorenz96_conditional_MLP_L2_0.1_wilcoxon_stats.pkl', 'rb') as f:\n",
    "    MLP_L2 = pickle.load(f)\n",
    "with open('raw/lorenz96_truth.pkl', 'rb') as f:\n",
    "    ground_truth = pickle.load(f)\n",
    "p = np.stack([SVM['p_val'], LSTM_L2['p_val'], MLP_L2['p_val']], axis=2)\n",
    "n = p.shape[0]\n",
    "k = p.shape[2]\n",
    "assert n == p.shape[1], 'P-values matrix should be square.'\n",
    "pred_truth = remove_diag(ground_truth)\n",
    "\n",
    "\n",
    "# %% Model independence coefficient curve\n",
    "@np.vectorize\n",
    "def mic_connectivity(c_, alpha_):\n",
    "    chi_ = -2 * np.sum(np.log(p), axis=2) * c_\n",
    "    pred = chi2.cdf(chi_, df=2 * k) > 1 - alpha_  # diagonal are all False\n",
    "    g = nx.DiGraph()\n",
    "    g.add_edges_from(zip(*np.where(pred)))\n",
    "    if len(g.nodes) == 0:\n",
    "        return 0\n",
    "    return nx.node_connectivity(g)\n",
    "\n",
    "\n",
    "c = np.linspace(0, 1, 26)\n",
    "alpha = np.array([0.01, 0.05, 0.1])\n",
    "alpha_grid, c_grid = mesh_grid(alpha, c)\n",
    "connectivity = mic_connectivity(c_grid, alpha_grid)\n",
    "fig, ax = plt.subplots(figsize=(3.75, 3))\n",
    "best_c = np.zeros(shape=alpha.shape)\n",
    "for j in range(alpha.shape[0]):\n",
    "    diff_1 = TVRegDiff(connectivity[:, j], itern=1, alph=0.5, plotflag=False)\n",
    "    b = np.argmax(diff_1)\n",
    "    ax.plot(c, diff_1, label=f'alpha = {alpha[j]}')\n",
    "    ax.scatter(c[b], diff_1[b], marker='x')\n",
    "    best_c[j] = c[b]\n",
    "    ax.annotate(f'c={round(c[b], 2)}', (c[b], diff_1[b]))\n",
    "ax.legend()\n",
    "fig.subplots_adjust(bottom=0.15, left=0.2, right=0.98, top=0.98)\n",
    "ax.set_xlabel('Model independence coefficient (c)')\n",
    "ax.set_ylabel('Derivative of node connectivity')\n",
    "fig.savefig('results/lorenz96_chisq_multiplier.eps')\n",
    "plt.close(fig)\n",
    "\n",
    "\n",
    "# %% Export the result (alpha = 0.01)\n",
    "@np.vectorize\n",
    "def decimal_non_zero(x):\n",
    "    return format(x, '.2f').lstrip('0')\n",
    "\n",
    "\n",
    "c0 = best_c[0]\n",
    "chi0 = -2 * np.sum(np.log(p), axis=2) * c0\n",
    "p0 = 1 - chi2.cdf(chi0, df=2 * k)\n",
    "with open('raw/lorenz96_combined_chisq_p.pkl', 'wb') as f:\n",
    "    pickle.dump({'p': p0, 'c': c0}, f)\n",
    "\n",
    "fig, ax = plt.subplots(figsize=(5, 4))\n",
    "mask = np.zeros_like(p0, dtype=bool)\n",
    "mask[np.diag_indices_from(mask)] = True\n",
    "heatmap = sns.heatmap(p0, mask=mask, square=True, linewidths=.5, cmap='coolwarm',\n",
    "                      vmin=0, vmax=0.1, annot=decimal_non_zero(p0), fmt='')\n",
    "ax.set_ylabel('Cause')\n",
    "ax.set_xlabel('Effect')\n",
    "fig.subplots_adjust(bottom=0.15, top=0.95)\n",
    "sns.set_style({'xtick.bottom': True}, {'ytick.left': True})\n",
    "heatmap.get_figure().savefig('results/lorenz96_combined_chisq.eps')\n",
    "plt.close(fig)\n"
   ]
  },
  {
   "cell_type": "code",
   "execution_count": 73,
   "id": "1ca54caf",
   "metadata": {
    "pycharm": {
     "name": "#%%\n"
    }
   },
   "outputs": [
    {
     "name": "stderr",
     "output_type": "stream",
     "text": [
      "WARNING:root:WARNING - convergence to tolerance not achieved!\n",
      "WARNING:root:WARNING - convergence to tolerance not achieved!\n",
      "WARNING:root:WARNING - convergence to tolerance not achieved!\n"
     ]
    },
    {
     "data": {
      "text/plain": [
       "Text(0, 0.5, 'Derivative of node connectivity')"
      ]
     },
     "execution_count": 73,
     "metadata": {},
     "output_type": "execute_result"
    },
    {
     "data": {
      "image/png": "[encoded data removed]",
      "text/plain": [
       "<Figure size 270x216 with 1 Axes>"
      ]
     },
     "metadata": {
      "needs_background": "light"
     },
     "output_type": "display_data"
    }
   ],
   "source": [
    "import matplotlib\n",
    "cmap = matplotlib.cm.get_cmap('coolwarm')\n",
    "mycolors = [cmap(0), cmap(0.3), cmap(0.9)]\n",
    "\n",
    "fig, ax = plt.subplots(figsize=(3.75, 3))\n",
    "best_c = np.zeros(shape=alpha.shape)\n",
    "for j in range(alpha.shape[0]):\n",
    "    diff_1 = TVRegDiff(connectivity[:, j], itern=1, alph=0.5, plotflag=False)\n",
    "    b = np.argmax(diff_1)\n",
    "    ax.plot(c, diff_1, label=f'alpha = {alpha[j]}', c=mycolors[j])\n",
    "    ax.scatter(c[b], diff_1[b], marker='x', color=mycolors[j])\n",
    "    best_c[j] = c[b]\n",
    "    ax.annotate(f'c={round(c[b], 2)}', (c[b]-np.array([-0.02,0.03,0.02])[j], diff_1[b]+np.array([0.1,0.5,0.5])[j]), rotation=45)\n",
    "ax.legend(frameon=False)\n",
    "ax.set_ylim([1.5, 18])\n",
    "fig.subplots_adjust(bottom=0.15, left=0.2, right=0.98, top=0.98)\n",
    "ax.set_xlabel('Model independence coefficient (c)')\n",
    "ax.set_ylabel('Derivative of node connectivity')"
   ]
  },
  {
   "cell_type": "code",
   "execution_count": 74,
   "id": "29803114",
   "metadata": {
    "pycharm": {
     "name": "#%%\n"
    }
   },
   "outputs": [],
   "source": [
    "fig.savefig('results/lorenz96_chisq_multiplier.pdf')"
   ]
  },
  {
   "cell_type": "markdown",
   "id": "4f50b31e",
   "metadata": {
    "pycharm": {
     "name": "#%% md\n"
    }
   },
   "source": [
    "# Stock Market"
   ]
  },
  {
   "cell_type": "code",
   "execution_count": 70,
   "id": "d7b3dac9",
   "metadata": {
    "pycharm": {
     "name": "#%%\n"
    }
   },
   "outputs": [
    {
     "name": "stderr",
     "output_type": "stream",
     "text": [
      "WARNING:root:WARNING - convergence to tolerance not achieved!\n",
      "WARNING:root:WARNING - convergence to tolerance not achieved!\n",
      "WARNING:root:WARNING - convergence to tolerance not achieved!\n"
     ]
    },
    {
     "data": {
      "text/plain": [
       "Text(0, 0.5, 'Derivative of node connectivity')"
      ]
     },
     "execution_count": 70,
     "metadata": {},
     "output_type": "execute_result"
    },
    {
     "data": {
      "image/png": "[encoded data removed]",
      "text/plain": [
       "<Figure size 270x216 with 1 Axes>"
      ]
     },
     "metadata": {
      "needs_background": "light"
     },
     "output_type": "display_data"
    }
   ],
   "source": [
    "fig, ax = plt.subplots(figsize=(3.75, 3))\n",
    "best_c = np.zeros(shape=alpha.shape)\n",
    "for j in range(alpha.shape[0]):\n",
    "    diff_1 = TVRegDiff(connectivity[:, j], itern=1, alph=1, plotflag=False)\n",
    "    b = np.argmax(diff_1)\n",
    "    ax.plot(c, diff_1, label=f'alpha = {alpha[j]}', c=mycolors[j])\n",
    "    ax.scatter(c[b], diff_1[b], marker='x', color=mycolors[j])\n",
    "    best_c[j] = c[b]\n",
    "    #ax.annotate(f'c={round(c[b], 2)}', (c[b]+0.01, diff_1[b]+2), rotation=45, backgroundcolor='w')\n",
    "    plt.text(c[b]+0.01, diff_1[b]+2, f'c={round(c[b], 2)}', bbox=dict(facecolor='w', alpha=0.4, edgecolor='none'), rotation=45)\n",
    "ax.legend(frameon=False)\n",
    "ax.set_ylim([-10, 68])\n",
    "fig.subplots_adjust(bottom=0.15, left=0.2, right=0.98, top=0.98)\n",
    "ax.set_xlabel('Model independence coefficient (c)')\n",
    "ax.set_ylabel('Derivative of node connectivity')"
   ]
  },
  {
   "cell_type": "code",
   "execution_count": 71,
   "id": "147af92c",
   "metadata": {
    "pycharm": {
     "name": "#%%\n"
    }
   },
   "outputs": [],
   "source": [
    "fig.savefig('results/indices_chisq_multiplier.pdf')"
   ]
  }
 ],
 "metadata": {
  "kernelspec": {
   "display_name": "Python 3 (ipykernel)",
   "language": "python",
   "name": "python3"
  },
  "language_info": {
   "codemirror_mode": {
    "name": "ipython",
    "version": 3
   },
   "file_extension": ".py",
   "mimetype": "text/x-python",
   "name": "python",
   "nbconvert_exporter": "python",
   "pygments_lexer": "ipython3",
   "version": "3.9.7"
  }
 },
 "nbformat": 4,
 "nbformat_minor": 5
}